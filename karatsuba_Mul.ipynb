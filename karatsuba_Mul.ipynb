{
 "cells": [
  {
   "cell_type": "markdown",
   "metadata": {
    "collapsed": false,
    "deletable": true,
    "editable": true
   },
   "source": [
    "## Karatusba Algorithm\n",
    "\n",
    "Karatsuba Algorithm is fastest mulltiplication algorithm.It reduces the multiplication of two n-digit numbers numbers For example, the Karatsuba algorithm requires 3^10 = 59,049 single-digit multiplications to multiply two 1024-digit numbers (n = 1024 = 210), whereas the classical algorithm requires (2^10)2 = 1,048,576.  We use recursion concept in solving multiplication using karatusuba Algorithm.<br/>\n",
    "  ## PseduoCode for Algorithm:<br/>\n",
    "  \n",
    "   procedure karatsuba(num1, num2)<br/>\n",
    "   \n",
    "  if (num1 < 10) or (num2 < 10)<br/>\n",
    "  \n",
    "    return num1*num2<br/>\n",
    "    \n",
    "  #### calculates the size of the numbers \n",
    "  \n",
    "  m = max(size_base10(num1), size_base10(num2))<br/>\n",
    "  \n",
    "  m2 = m/2<br/>\n",
    "  \n",
    " #### split the digit sequences about the middle\n",
    "  \n",
    "  high1, low1 = split_at(num1, m2)<br/>\n",
    "  high2, low2 = split_at(num2, m2)<br/>\n",
    "  \n",
    "  #### 3 calls made to numbers approximately half the size \n",
    "  \n",
    "  z0 = karatsuba(low1,low2)<br/>\n",
    "  \n",
    "  z1 = karatsuba((low1+high1),(low2+high2))<br/>\n",
    "  \n",
    "  z2 = karatsuba(high1,high2)<br/>\n",
    "  \n",
    "  return (z2*10^(2*m2))+((z1-z2-z0)*10^(m2))+(z0)<br/>\n",
    " \n",
    "  "
   ]
  },
  {
   "cell_type": "markdown",
   "metadata": {
    "collapsed": false,
    "deletable": true,
    "editable": true
   },
   "source": [
    "## Python Code"
   ]
  },
  {
   "cell_type": "code",
   "execution_count": 29,
   "metadata": {
    "collapsed": false,
    "deletable": true,
    "editable": true
   },
   "outputs": [
    {
     "data": {
      "text/plain": [
       "8.539732578930623e+126"
      ]
     },
     "execution_count": 29,
     "metadata": {},
     "output_type": "execute_result"
    }
   ],
   "source": [
    "def karatsuba(x,y):\n",
    "    if(len(str(x))==1 or len(str(y))==1 ):\n",
    "        return x*y\n",
    "    else:\n",
    "        n=max(len(str(x)),len(str(y)))\n",
    "        m=n/2\n",
    "        a=int(x / 10**(m))\n",
    "       \n",
    "        b=int(x % 10**(m))\n",
    "       \n",
    "        c=int(y / 10**(m))\n",
    "       \n",
    "        d=int(y % 10**(m))\n",
    "        \n",
    "        ac=karatsuba(a,c)\n",
    "        bd=karatsuba(b,d)\n",
    "        result=(karatsuba(a+b,c+d))-ac-bd\n",
    "        \n",
    "        prod = ac * 10**(2*m) + (result * 10**m) + bd\n",
    "\n",
    "        return int(prod)\n",
    "        \n",
    "        \n",
    "karatsuba(3141592653589793238462643383279502884197169399375105820974944592,2718281828459045235360287471352662497757247093699959574966967627)"
   ]
  }
 ],
 "metadata": {
  "kernelspec": {
   "display_name": "Python 3",
   "language": "python",
   "name": "python3"
  },
  "language_info": {
   "codemirror_mode": {
    "name": "ipython",
    "version": 3
   },
   "file_extension": ".py",
   "mimetype": "text/x-python",
   "name": "python",
   "nbconvert_exporter": "python",
   "pygments_lexer": "ipython3",
   "version": "3.6.0"
  }
 },
 "nbformat": 4,
 "nbformat_minor": 2
}
